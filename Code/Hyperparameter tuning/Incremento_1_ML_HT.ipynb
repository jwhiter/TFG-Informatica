{
  "cells": [
    {
      "cell_type": "markdown",
      "metadata": {
        "id": "OoYDvekJhoP5"
      },
      "source": [
        "# HYPERPARAMETER TUNING FOR TRADITIONAL ALGORITHIMS OF ML"
      ]
    },
    {
      "cell_type": "markdown",
      "metadata": {
        "id": "apUL6zp_ecO8"
      },
      "source": [
        "### IMPORT PACKAGES & FUNCTIONS"
      ]
    },
    {
      "cell_type": "code",
      "execution_count": 1,
      "metadata": {
        "colab": {
          "base_uri": "https://localhost:8080/"
        },
        "id": "65WsP_uVr903",
        "outputId": "bb46c507-eed0-430f-b38a-54276ec9a4f4"
      },
      "outputs": [
        {
          "output_type": "stream",
          "name": "stderr",
          "text": [
            "[nltk_data] Downloading package wordnet to /root/nltk_data...\n",
            "[nltk_data] Downloading package omw-1.4 to /root/nltk_data...\n",
            "[nltk_data] Downloading package stopwords to /root/nltk_data...\n",
            "[nltk_data]   Unzipping corpora/stopwords.zip.\n"
          ]
        },
        {
          "output_type": "execute_result",
          "data": {
            "text/plain": [
              "True"
            ]
          },
          "metadata": {},
          "execution_count": 1
        }
      ],
      "source": [
        "import re\n",
        "import pandas as pd\n",
        "import sklearn.svm as svm\n",
        "from nltk import download\n",
        "from nltk import WordNetLemmatizer\n",
        "from nltk.corpus import stopwords\n",
        "from sklearn.ensemble import RandomForestClassifier\n",
        "from sklearn.feature_extraction.text import TfidfVectorizer\n",
        "from sklearn.model_selection import GridSearchCV\n",
        "from sklearn.naive_bayes import MultinomialNB\n",
        "from sklearn.neighbors import KNeighborsClassifier\n",
        "from sklearn.preprocessing import LabelEncoder\n",
        "from tqdm import tqdm\n",
        "\n",
        "download('wordnet')\n",
        "download('omw-1.4')\n",
        "download('stopwords')"
      ]
    },
    {
      "cell_type": "code",
      "execution_count": 2,
      "metadata": {
        "id": "3-wYm6QftELP"
      },
      "outputs": [],
      "source": [
        "def preprocessing(text):\n",
        "    text = text.lower()\n",
        "    text_cleaned = re.sub(r'[^0-9a-z_+\\-*]', ' ', text).strip()\n",
        "    lemm = WordNetLemmatizer()\n",
        "    title = []\n",
        "    for token in text_cleaned.split():\n",
        "        token_lemm = lemm.lemmatize(token)\n",
        "        if token_lemm not in stopwords.words('english'):\n",
        "             title.append(lemm.lemmatize(token))\n",
        "    return ' '.join(str(elem) for elem in title)"
      ]
    },
    {
      "cell_type": "markdown",
      "metadata": {
        "id": "9UccGNLJe5Dv"
      },
      "source": [
        "##IMPORT DATA FROM LOCAL FILES\n",
        "Files to upload:\n",
        "- test_category.csv\n",
        "- test_data.csv\n",
        "- train_category.csv\n",
        "- train_data.csv"
      ]
    },
    {
      "cell_type": "code",
      "execution_count": 3,
      "metadata": {
        "colab": {
          "base_uri": "https://localhost:8080/",
          "height": 177
        },
        "id": "EvlQg6lmtMPk",
        "outputId": "fbc19728-a7fb-4cea-8e3b-ffb5f9fb688d"
      },
      "outputs": [
        {
          "output_type": "display_data",
          "data": {
            "text/plain": [
              "<IPython.core.display.HTML object>"
            ],
            "text/html": [
              "\n",
              "     <input type=\"file\" id=\"files-b6b79a78-4bdb-454a-a82d-eb0658e490c8\" name=\"files[]\" multiple disabled\n",
              "        style=\"border:none\" />\n",
              "     <output id=\"result-b6b79a78-4bdb-454a-a82d-eb0658e490c8\">\n",
              "      Upload widget is only available when the cell has been executed in the\n",
              "      current browser session. Please rerun this cell to enable.\n",
              "      </output>\n",
              "      <script>// Copyright 2017 Google LLC\n",
              "//\n",
              "// Licensed under the Apache License, Version 2.0 (the \"License\");\n",
              "// you may not use this file except in compliance with the License.\n",
              "// You may obtain a copy of the License at\n",
              "//\n",
              "//      http://www.apache.org/licenses/LICENSE-2.0\n",
              "//\n",
              "// Unless required by applicable law or agreed to in writing, software\n",
              "// distributed under the License is distributed on an \"AS IS\" BASIS,\n",
              "// WITHOUT WARRANTIES OR CONDITIONS OF ANY KIND, either express or implied.\n",
              "// See the License for the specific language governing permissions and\n",
              "// limitations under the License.\n",
              "\n",
              "/**\n",
              " * @fileoverview Helpers for google.colab Python module.\n",
              " */\n",
              "(function(scope) {\n",
              "function span(text, styleAttributes = {}) {\n",
              "  const element = document.createElement('span');\n",
              "  element.textContent = text;\n",
              "  for (const key of Object.keys(styleAttributes)) {\n",
              "    element.style[key] = styleAttributes[key];\n",
              "  }\n",
              "  return element;\n",
              "}\n",
              "\n",
              "// Max number of bytes which will be uploaded at a time.\n",
              "const MAX_PAYLOAD_SIZE = 100 * 1024;\n",
              "\n",
              "function _uploadFiles(inputId, outputId) {\n",
              "  const steps = uploadFilesStep(inputId, outputId);\n",
              "  const outputElement = document.getElementById(outputId);\n",
              "  // Cache steps on the outputElement to make it available for the next call\n",
              "  // to uploadFilesContinue from Python.\n",
              "  outputElement.steps = steps;\n",
              "\n",
              "  return _uploadFilesContinue(outputId);\n",
              "}\n",
              "\n",
              "// This is roughly an async generator (not supported in the browser yet),\n",
              "// where there are multiple asynchronous steps and the Python side is going\n",
              "// to poll for completion of each step.\n",
              "// This uses a Promise to block the python side on completion of each step,\n",
              "// then passes the result of the previous step as the input to the next step.\n",
              "function _uploadFilesContinue(outputId) {\n",
              "  const outputElement = document.getElementById(outputId);\n",
              "  const steps = outputElement.steps;\n",
              "\n",
              "  const next = steps.next(outputElement.lastPromiseValue);\n",
              "  return Promise.resolve(next.value.promise).then((value) => {\n",
              "    // Cache the last promise value to make it available to the next\n",
              "    // step of the generator.\n",
              "    outputElement.lastPromiseValue = value;\n",
              "    return next.value.response;\n",
              "  });\n",
              "}\n",
              "\n",
              "/**\n",
              " * Generator function which is called between each async step of the upload\n",
              " * process.\n",
              " * @param {string} inputId Element ID of the input file picker element.\n",
              " * @param {string} outputId Element ID of the output display.\n",
              " * @return {!Iterable<!Object>} Iterable of next steps.\n",
              " */\n",
              "function* uploadFilesStep(inputId, outputId) {\n",
              "  const inputElement = document.getElementById(inputId);\n",
              "  inputElement.disabled = false;\n",
              "\n",
              "  const outputElement = document.getElementById(outputId);\n",
              "  outputElement.innerHTML = '';\n",
              "\n",
              "  const pickedPromise = new Promise((resolve) => {\n",
              "    inputElement.addEventListener('change', (e) => {\n",
              "      resolve(e.target.files);\n",
              "    });\n",
              "  });\n",
              "\n",
              "  const cancel = document.createElement('button');\n",
              "  inputElement.parentElement.appendChild(cancel);\n",
              "  cancel.textContent = 'Cancel upload';\n",
              "  const cancelPromise = new Promise((resolve) => {\n",
              "    cancel.onclick = () => {\n",
              "      resolve(null);\n",
              "    };\n",
              "  });\n",
              "\n",
              "  // Wait for the user to pick the files.\n",
              "  const files = yield {\n",
              "    promise: Promise.race([pickedPromise, cancelPromise]),\n",
              "    response: {\n",
              "      action: 'starting',\n",
              "    }\n",
              "  };\n",
              "\n",
              "  cancel.remove();\n",
              "\n",
              "  // Disable the input element since further picks are not allowed.\n",
              "  inputElement.disabled = true;\n",
              "\n",
              "  if (!files) {\n",
              "    return {\n",
              "      response: {\n",
              "        action: 'complete',\n",
              "      }\n",
              "    };\n",
              "  }\n",
              "\n",
              "  for (const file of files) {\n",
              "    const li = document.createElement('li');\n",
              "    li.append(span(file.name, {fontWeight: 'bold'}));\n",
              "    li.append(span(\n",
              "        `(${file.type || 'n/a'}) - ${file.size} bytes, ` +\n",
              "        `last modified: ${\n",
              "            file.lastModifiedDate ? file.lastModifiedDate.toLocaleDateString() :\n",
              "                                    'n/a'} - `));\n",
              "    const percent = span('0% done');\n",
              "    li.appendChild(percent);\n",
              "\n",
              "    outputElement.appendChild(li);\n",
              "\n",
              "    const fileDataPromise = new Promise((resolve) => {\n",
              "      const reader = new FileReader();\n",
              "      reader.onload = (e) => {\n",
              "        resolve(e.target.result);\n",
              "      };\n",
              "      reader.readAsArrayBuffer(file);\n",
              "    });\n",
              "    // Wait for the data to be ready.\n",
              "    let fileData = yield {\n",
              "      promise: fileDataPromise,\n",
              "      response: {\n",
              "        action: 'continue',\n",
              "      }\n",
              "    };\n",
              "\n",
              "    // Use a chunked sending to avoid message size limits. See b/62115660.\n",
              "    let position = 0;\n",
              "    do {\n",
              "      const length = Math.min(fileData.byteLength - position, MAX_PAYLOAD_SIZE);\n",
              "      const chunk = new Uint8Array(fileData, position, length);\n",
              "      position += length;\n",
              "\n",
              "      const base64 = btoa(String.fromCharCode.apply(null, chunk));\n",
              "      yield {\n",
              "        response: {\n",
              "          action: 'append',\n",
              "          file: file.name,\n",
              "          data: base64,\n",
              "        },\n",
              "      };\n",
              "\n",
              "      let percentDone = fileData.byteLength === 0 ?\n",
              "          100 :\n",
              "          Math.round((position / fileData.byteLength) * 100);\n",
              "      percent.textContent = `${percentDone}% done`;\n",
              "\n",
              "    } while (position < fileData.byteLength);\n",
              "  }\n",
              "\n",
              "  // All done.\n",
              "  yield {\n",
              "    response: {\n",
              "      action: 'complete',\n",
              "    }\n",
              "  };\n",
              "}\n",
              "\n",
              "scope.google = scope.google || {};\n",
              "scope.google.colab = scope.google.colab || {};\n",
              "scope.google.colab._files = {\n",
              "  _uploadFiles,\n",
              "  _uploadFilesContinue,\n",
              "};\n",
              "})(self);\n",
              "</script> "
            ]
          },
          "metadata": {}
        },
        {
          "output_type": "stream",
          "name": "stdout",
          "text": [
            "Saving test_category.csv to test_category.csv\n",
            "Saving test_data.csv to test_data.csv\n",
            "Saving train_category.csv to train_category.csv\n",
            "Saving train_data.csv to train_data.csv\n"
          ]
        }
      ],
      "source": [
        "from google.colab import files\n",
        "uploaded = files.upload()"
      ]
    },
    {
      "cell_type": "code",
      "execution_count": 4,
      "metadata": {
        "id": "DfcFUxHruIiv"
      },
      "outputs": [],
      "source": [
        "train_data_df = pd.read_csv('/content/train_data.csv')\n",
        "test_data_df = pd.read_csv('/content/test_data.csv')\n",
        "train_category_df = pd.read_csv('/content/train_category.csv')\n",
        "test_category_df = pd.read_csv('/content/test_category.csv')"
      ]
    },
    {
      "cell_type": "code",
      "execution_count": 5,
      "metadata": {
        "id": "JU79mlaAuM63"
      },
      "outputs": [],
      "source": [
        "train_data = train_data_df['headline']\n",
        "test_data = test_data_df['headline']\n",
        "train_label = train_category_df['labels'] \n",
        "test_label = test_category_df['labels']"
      ]
    },
    {
      "cell_type": "markdown",
      "metadata": {
        "id": "xqoqFAa_gUAa"
      },
      "source": [
        "## DATA PREPARATION"
      ]
    },
    {
      "cell_type": "code",
      "execution_count": 6,
      "metadata": {
        "id": "Snpj2U5WvqmW"
      },
      "outputs": [],
      "source": [
        "train_data = train_data.apply(lambda x: preprocessing(str(x)))\n",
        "test_data = test_data.apply(lambda x: preprocessing(str(x)))"
      ]
    },
    {
      "cell_type": "code",
      "execution_count": 7,
      "metadata": {
        "id": "XcFzXYlluyLS"
      },
      "outputs": [],
      "source": [
        "encoder = LabelEncoder()\n",
        "train_label = encoder.fit_transform(train_label)\n",
        "test_label = encoder.fit_transform(test_label)"
      ]
    },
    {
      "cell_type": "code",
      "execution_count": 8,
      "metadata": {
        "id": "a1WGhLjZvT-5"
      },
      "outputs": [],
      "source": [
        "tfidf_vector = TfidfVectorizer()\n",
        "tfidf_vector.fit(train_data)\n",
        "train_data_tfidf = tfidf_vector.transform(train_data)\n",
        "test_data_tfidf = tfidf_vector.transform(test_data)"
      ]
    },
    {
      "cell_type": "markdown",
      "metadata": {
        "id": "IWfoSkRRgYRZ"
      },
      "source": [
        "## SETTING MODELS AND PARAMETERS FOR TUNING\n",
        "- GridSearchCV: Make a grid search over all combinations with the parameters and the models given"
      ]
    },
    {
      "cell_type": "code",
      "execution_count": 9,
      "metadata": {
        "id": "89uQfzU6vXvn"
      },
      "outputs": [],
      "source": [
        "models = {\n",
        "    \"Random Forest\": RandomForestClassifier(),\n",
        "    \"MNB\": MultinomialNB(),\n",
        "    \"SVM\": svm.SVC(),\n",
        "    \"KNN\": KNeighborsClassifier()\n",
        "}\n",
        "params = {\n",
        "    \"Random Forest\": {\n",
        "        \"n_estimators\": [10, 100, 500, 1000],\n",
        "        \"max_features\": ['auto', 'sqrt', 'log2']\n",
        "    },\n",
        "    \"MNB\": {\n",
        "        \"alpha\": [0.0001, 0.001, 0.01, 1]\n",
        "    },\n",
        "    \"SVM\": {\n",
        "        \"gamma\": [10, 1, 0.1, 1e-2, 1e-3],\n",
        "        \"C\": [0.01, 0.1, 1, 10, 100, 1000]\n",
        "    },\n",
        "    \"KNN\": {\n",
        "        \"n_neighbors\": [1, 2, 3, 5, 10, 50]\n",
        "    }\n",
        "}\n"
      ]
    },
    {
      "cell_type": "code",
      "execution_count": 10,
      "metadata": {
        "id": "zsy5A8iAvc5v"
      },
      "outputs": [],
      "source": [
        "random_cv_model = [\n",
        "    (\"Random Forest\", models[\"Random Forest\"], params[\"Random Forest\"]),\n",
        "    (\"MNB\", models[\"MNB\"], params[\"MNB\"]),\n",
        "    (\"SVM\", models[\"SVM\"], params[\"SVM\"]),\n",
        "    (\"KNN\", models[\"KNN\"], params[\"KNN\"])\n",
        "]"
      ]
    },
    {
      "cell_type": "code",
      "execution_count": 11,
      "metadata": {
        "id": "T6ymB3_Ivip2"
      },
      "outputs": [],
      "source": [
        "model_param = {}"
      ]
    },
    {
      "cell_type": "code",
      "execution_count": 12,
      "metadata": {
        "colab": {
          "base_uri": "https://localhost:8080/"
        },
        "id": "WY5-my18wxCd",
        "outputId": "c05ee9fa-1185-436c-d43a-3aadac8c4b23"
      },
      "outputs": [
        {
          "output_type": "stream",
          "name": "stdout",
          "text": [
            "Fitting 5 folds for each of 12 candidates, totalling 60 fits\n",
            "[CV] END .................max_features=auto, n_estimators=10; total time=   5.0s\n",
            "[CV] END .................max_features=auto, n_estimators=10; total time=   5.9s\n",
            "[CV] END .................max_features=auto, n_estimators=10; total time=   5.0s\n",
            "[CV] END .................max_features=auto, n_estimators=10; total time=   7.0s\n",
            "[CV] END .................max_features=auto, n_estimators=10; total time=   5.4s\n",
            "[CV] END ................max_features=auto, n_estimators=100; total time=  54.2s\n",
            "[CV] END ................max_features=auto, n_estimators=100; total time=  54.9s\n",
            "[CV] END ................max_features=auto, n_estimators=100; total time=  54.1s\n",
            "[CV] END ................max_features=auto, n_estimators=100; total time=  54.5s\n",
            "[CV] END ................max_features=auto, n_estimators=100; total time=  53.6s\n",
            "[CV] END ................max_features=auto, n_estimators=500; total time= 4.4min\n",
            "[CV] END ................max_features=auto, n_estimators=500; total time= 4.6min\n",
            "[CV] END ................max_features=auto, n_estimators=500; total time= 4.5min\n",
            "[CV] END ................max_features=auto, n_estimators=500; total time= 4.5min\n",
            "[CV] END ................max_features=auto, n_estimators=500; total time= 4.4min\n",
            "[CV] END ...............max_features=auto, n_estimators=1000; total time= 8.7min\n",
            "[CV] END ...............max_features=auto, n_estimators=1000; total time= 8.9min\n",
            "[CV] END ...............max_features=auto, n_estimators=1000; total time= 8.7min\n",
            "[CV] END ...............max_features=auto, n_estimators=1000; total time= 8.8min\n",
            "[CV] END ...............max_features=auto, n_estimators=1000; total time= 8.8min\n",
            "[CV] END .................max_features=sqrt, n_estimators=10; total time=   5.6s\n",
            "[CV] END .................max_features=sqrt, n_estimators=10; total time=   5.0s\n",
            "[CV] END .................max_features=sqrt, n_estimators=10; total time=   5.5s\n",
            "[CV] END .................max_features=sqrt, n_estimators=10; total time=   5.0s\n",
            "[CV] END .................max_features=sqrt, n_estimators=10; total time=   5.5s\n",
            "[CV] END ................max_features=sqrt, n_estimators=100; total time=  52.8s\n",
            "[CV] END ................max_features=sqrt, n_estimators=100; total time=  54.2s\n",
            "[CV] END ................max_features=sqrt, n_estimators=100; total time=  53.2s\n",
            "[CV] END ................max_features=sqrt, n_estimators=100; total time=  52.9s\n",
            "[CV] END ................max_features=sqrt, n_estimators=100; total time=  53.4s\n",
            "[CV] END ................max_features=sqrt, n_estimators=500; total time= 4.3min\n",
            "[CV] END ................max_features=sqrt, n_estimators=500; total time= 4.4min\n",
            "[CV] END ................max_features=sqrt, n_estimators=500; total time= 4.4min\n",
            "[CV] END ................max_features=sqrt, n_estimators=500; total time= 4.3min\n",
            "[CV] END ................max_features=sqrt, n_estimators=500; total time= 4.3min\n",
            "[CV] END ...............max_features=sqrt, n_estimators=1000; total time= 8.7min\n",
            "[CV] END ...............max_features=sqrt, n_estimators=1000; total time= 8.8min\n",
            "[CV] END ...............max_features=sqrt, n_estimators=1000; total time= 8.7min\n",
            "[CV] END ...............max_features=sqrt, n_estimators=1000; total time= 8.6min\n",
            "[CV] END ...............max_features=sqrt, n_estimators=1000; total time= 8.7min\n",
            "[CV] END .................max_features=log2, n_estimators=10; total time=   5.7s\n",
            "[CV] END .................max_features=log2, n_estimators=10; total time=   6.0s\n",
            "[CV] END .................max_features=log2, n_estimators=10; total time=   5.9s\n",
            "[CV] END .................max_features=log2, n_estimators=10; total time=   5.7s\n",
            "[CV] END .................max_features=log2, n_estimators=10; total time=   5.7s\n",
            "[CV] END ................max_features=log2, n_estimators=100; total time=  57.9s\n",
            "[CV] END ................max_features=log2, n_estimators=100; total time= 1.0min\n",
            "[CV] END ................max_features=log2, n_estimators=100; total time=  58.2s\n",
            "[CV] END ................max_features=log2, n_estimators=100; total time=  57.4s\n",
            "[CV] END ................max_features=log2, n_estimators=100; total time=  57.5s\n",
            "[CV] END ................max_features=log2, n_estimators=500; total time= 4.8min\n",
            "[CV] END ................max_features=log2, n_estimators=500; total time= 5.1min\n",
            "[CV] END ................max_features=log2, n_estimators=500; total time= 4.8min\n",
            "[CV] END ................max_features=log2, n_estimators=500; total time= 4.8min\n",
            "[CV] END ................max_features=log2, n_estimators=500; total time= 4.8min\n",
            "[CV] END ...............max_features=log2, n_estimators=1000; total time= 9.7min\n",
            "[CV] END ...............max_features=log2, n_estimators=1000; total time=10.2min\n",
            "[CV] END ...............max_features=log2, n_estimators=1000; total time= 9.7min\n",
            "[CV] END ...............max_features=log2, n_estimators=1000; total time= 9.6min\n",
            "[CV] END ...............max_features=log2, n_estimators=1000; total time= 9.7min\n",
            "Fitting 5 folds for each of 4 candidates, totalling 20 fits\n",
            "[CV] END .......................................alpha=0.0001; total time=   0.0s\n",
            "[CV] END .......................................alpha=0.0001; total time=   0.0s\n",
            "[CV] END .......................................alpha=0.0001; total time=   0.0s\n",
            "[CV] END .......................................alpha=0.0001; total time=   0.0s\n",
            "[CV] END .......................................alpha=0.0001; total time=   0.0s\n",
            "[CV] END ........................................alpha=0.001; total time=   0.0s\n",
            "[CV] END ........................................alpha=0.001; total time=   0.0s\n",
            "[CV] END ........................................alpha=0.001; total time=   0.0s\n",
            "[CV] END ........................................alpha=0.001; total time=   0.0s\n",
            "[CV] END ........................................alpha=0.001; total time=   0.0s\n",
            "[CV] END .........................................alpha=0.01; total time=   0.0s\n",
            "[CV] END .........................................alpha=0.01; total time=   0.0s\n",
            "[CV] END .........................................alpha=0.01; total time=   0.0s\n",
            "[CV] END .........................................alpha=0.01; total time=   0.0s\n",
            "[CV] END .........................................alpha=0.01; total time=   0.0s\n",
            "[CV] END ............................................alpha=1; total time=   0.0s\n",
            "[CV] END ............................................alpha=1; total time=   0.0s\n",
            "[CV] END ............................................alpha=1; total time=   0.0s\n",
            "[CV] END ............................................alpha=1; total time=   0.0s\n",
            "[CV] END ............................................alpha=1; total time=   0.0s\n",
            "Fitting 5 folds for each of 30 candidates, totalling 150 fits\n",
            "[CV] END ...................................C=0.01, gamma=10; total time= 1.0min\n",
            "[CV] END ...................................C=0.01, gamma=10; total time= 1.0min\n",
            "[CV] END ...................................C=0.01, gamma=10; total time= 1.0min\n",
            "[CV] END ...................................C=0.01, gamma=10; total time= 1.0min\n",
            "[CV] END ...................................C=0.01, gamma=10; total time= 1.0min\n",
            "[CV] END ....................................C=0.01, gamma=1; total time= 1.1min\n",
            "[CV] END ....................................C=0.01, gamma=1; total time= 1.2min\n",
            "[CV] END ....................................C=0.01, gamma=1; total time= 1.1min\n",
            "[CV] END ....................................C=0.01, gamma=1; total time= 1.2min\n",
            "[CV] END ....................................C=0.01, gamma=1; total time= 1.2min\n",
            "[CV] END ..................................C=0.01, gamma=0.1; total time= 1.2min\n",
            "[CV] END ..................................C=0.01, gamma=0.1; total time= 1.2min\n",
            "[CV] END ..................................C=0.01, gamma=0.1; total time= 1.2min\n",
            "[CV] END ..................................C=0.01, gamma=0.1; total time= 1.2min\n",
            "[CV] END ..................................C=0.01, gamma=0.1; total time= 1.2min\n",
            "[CV] END .................................C=0.01, gamma=0.01; total time= 1.2min\n",
            "[CV] END .................................C=0.01, gamma=0.01; total time= 1.2min\n",
            "[CV] END .................................C=0.01, gamma=0.01; total time= 1.2min\n",
            "[CV] END .................................C=0.01, gamma=0.01; total time= 1.2min\n",
            "[CV] END .................................C=0.01, gamma=0.01; total time= 1.2min\n",
            "[CV] END ................................C=0.01, gamma=0.001; total time= 1.2min\n",
            "[CV] END ................................C=0.01, gamma=0.001; total time= 1.2min\n",
            "[CV] END ................................C=0.01, gamma=0.001; total time= 1.2min\n",
            "[CV] END ................................C=0.01, gamma=0.001; total time= 1.2min\n",
            "[CV] END ................................C=0.01, gamma=0.001; total time= 1.2min\n",
            "[CV] END ....................................C=0.1, gamma=10; total time= 1.1min\n",
            "[CV] END ....................................C=0.1, gamma=10; total time= 1.0min\n",
            "[CV] END ....................................C=0.1, gamma=10; total time= 1.0min\n",
            "[CV] END ....................................C=0.1, gamma=10; total time= 1.0min\n",
            "[CV] END ....................................C=0.1, gamma=10; total time= 1.0min\n",
            "[CV] END .....................................C=0.1, gamma=1; total time= 1.1min\n",
            "[CV] END .....................................C=0.1, gamma=1; total time= 1.1min\n",
            "[CV] END .....................................C=0.1, gamma=1; total time= 1.1min\n",
            "[CV] END .....................................C=0.1, gamma=1; total time= 1.1min\n",
            "[CV] END .....................................C=0.1, gamma=1; total time= 1.1min\n",
            "[CV] END ...................................C=0.1, gamma=0.1; total time= 1.2min\n",
            "[CV] END ...................................C=0.1, gamma=0.1; total time= 1.2min\n",
            "[CV] END ...................................C=0.1, gamma=0.1; total time= 1.2min\n",
            "[CV] END ...................................C=0.1, gamma=0.1; total time= 1.2min\n",
            "[CV] END ...................................C=0.1, gamma=0.1; total time= 1.2min\n",
            "[CV] END ..................................C=0.1, gamma=0.01; total time= 1.2min\n",
            "[CV] END ..................................C=0.1, gamma=0.01; total time= 1.2min\n",
            "[CV] END ..................................C=0.1, gamma=0.01; total time= 1.2min\n",
            "[CV] END ..................................C=0.1, gamma=0.01; total time= 1.2min\n",
            "[CV] END ..................................C=0.1, gamma=0.01; total time= 1.2min\n",
            "[CV] END .................................C=0.1, gamma=0.001; total time= 1.2min\n",
            "[CV] END .................................C=0.1, gamma=0.001; total time= 1.2min\n",
            "[CV] END .................................C=0.1, gamma=0.001; total time= 1.2min\n",
            "[CV] END .................................C=0.1, gamma=0.001; total time= 1.2min\n",
            "[CV] END .................................C=0.1, gamma=0.001; total time= 1.2min\n",
            "[CV] END ......................................C=1, gamma=10; total time= 2.0min\n",
            "[CV] END ......................................C=1, gamma=10; total time= 2.0min\n",
            "[CV] END ......................................C=1, gamma=10; total time= 1.8min\n",
            "[CV] END ......................................C=1, gamma=10; total time= 2.0min\n",
            "[CV] END ......................................C=1, gamma=10; total time= 2.0min\n",
            "[CV] END .......................................C=1, gamma=1; total time= 1.2min\n",
            "[CV] END .......................................C=1, gamma=1; total time= 1.2min\n",
            "[CV] END .......................................C=1, gamma=1; total time= 1.2min\n",
            "[CV] END .......................................C=1, gamma=1; total time= 1.2min\n",
            "[CV] END .......................................C=1, gamma=1; total time= 1.2min\n",
            "[CV] END .....................................C=1, gamma=0.1; total time=  45.5s\n",
            "[CV] END .....................................C=1, gamma=0.1; total time=  46.7s\n",
            "[CV] END .....................................C=1, gamma=0.1; total time=  45.7s\n",
            "[CV] END .....................................C=1, gamma=0.1; total time=  45.3s\n",
            "[CV] END .....................................C=1, gamma=0.1; total time=  44.9s\n",
            "[CV] END ....................................C=1, gamma=0.01; total time= 1.2min\n",
            "[CV] END ....................................C=1, gamma=0.01; total time= 1.2min\n",
            "[CV] END ....................................C=1, gamma=0.01; total time= 1.2min\n",
            "[CV] END ....................................C=1, gamma=0.01; total time= 1.2min\n",
            "[CV] END ....................................C=1, gamma=0.01; total time= 1.2min\n",
            "[CV] END ...................................C=1, gamma=0.001; total time= 1.2min\n",
            "[CV] END ...................................C=1, gamma=0.001; total time= 1.2min\n",
            "[CV] END ...................................C=1, gamma=0.001; total time= 1.2min\n",
            "[CV] END ...................................C=1, gamma=0.001; total time= 1.2min\n",
            "[CV] END ...................................C=1, gamma=0.001; total time= 1.2min\n",
            "[CV] END .....................................C=10, gamma=10; total time= 2.1min\n",
            "[CV] END .....................................C=10, gamma=10; total time= 2.0min\n",
            "[CV] END .....................................C=10, gamma=10; total time= 1.9min\n",
            "[CV] END .....................................C=10, gamma=10; total time= 2.1min\n",
            "[CV] END .....................................C=10, gamma=10; total time= 2.1min\n",
            "[CV] END ......................................C=10, gamma=1; total time= 1.4min\n",
            "[CV] END ......................................C=10, gamma=1; total time= 1.4min\n",
            "[CV] END ......................................C=10, gamma=1; total time= 1.4min\n",
            "[CV] END ......................................C=10, gamma=1; total time= 1.4min\n",
            "[CV] END ......................................C=10, gamma=1; total time= 1.4min\n",
            "[CV] END ....................................C=10, gamma=0.1; total time=  34.2s\n",
            "[CV] END ....................................C=10, gamma=0.1; total time=  34.0s\n",
            "[CV] END ....................................C=10, gamma=0.1; total time=  34.7s\n",
            "[CV] END ....................................C=10, gamma=0.1; total time=  34.1s\n",
            "[CV] END ....................................C=10, gamma=0.1; total time=  34.6s\n",
            "[CV] END ...................................C=10, gamma=0.01; total time=  43.6s\n",
            "[CV] END ...................................C=10, gamma=0.01; total time=  42.9s\n",
            "[CV] END ...................................C=10, gamma=0.01; total time=  42.8s\n",
            "[CV] END ...................................C=10, gamma=0.01; total time=  43.3s\n",
            "[CV] END ...................................C=10, gamma=0.01; total time=  42.9s\n",
            "[CV] END ..................................C=10, gamma=0.001; total time= 1.1min\n",
            "[CV] END ..................................C=10, gamma=0.001; total time= 1.2min\n",
            "[CV] END ..................................C=10, gamma=0.001; total time= 1.1min\n",
            "[CV] END ..................................C=10, gamma=0.001; total time= 1.1min\n",
            "[CV] END ..................................C=10, gamma=0.001; total time= 1.2min\n",
            "[CV] END ....................................C=100, gamma=10; total time= 2.1min\n",
            "[CV] END ....................................C=100, gamma=10; total time= 2.0min\n",
            "[CV] END ....................................C=100, gamma=10; total time= 1.9min\n",
            "[CV] END ....................................C=100, gamma=10; total time= 2.1min\n",
            "[CV] END ....................................C=100, gamma=10; total time= 2.1min\n",
            "[CV] END .....................................C=100, gamma=1; total time= 1.4min\n",
            "[CV] END .....................................C=100, gamma=1; total time= 1.4min\n",
            "[CV] END .....................................C=100, gamma=1; total time= 1.4min\n",
            "[CV] END .....................................C=100, gamma=1; total time= 1.4min\n",
            "[CV] END .....................................C=100, gamma=1; total time= 1.4min\n",
            "[CV] END ...................................C=100, gamma=0.1; total time=  34.8s\n",
            "[CV] END ...................................C=100, gamma=0.1; total time=  34.3s\n",
            "[CV] END ...................................C=100, gamma=0.1; total time=  34.6s\n",
            "[CV] END ...................................C=100, gamma=0.1; total time=  34.4s\n",
            "[CV] END ...................................C=100, gamma=0.1; total time=  33.9s\n",
            "[CV] END ..................................C=100, gamma=0.01; total time=  32.9s\n",
            "[CV] END ..................................C=100, gamma=0.01; total time=  32.6s\n",
            "[CV] END ..................................C=100, gamma=0.01; total time=  32.9s\n",
            "[CV] END ..................................C=100, gamma=0.01; total time=  32.5s\n",
            "[CV] END ..................................C=100, gamma=0.01; total time=  32.8s\n",
            "[CV] END .................................C=100, gamma=0.001; total time=  43.3s\n",
            "[CV] END .................................C=100, gamma=0.001; total time=  42.5s\n",
            "[CV] END .................................C=100, gamma=0.001; total time=  42.8s\n",
            "[CV] END .................................C=100, gamma=0.001; total time=  43.3s\n",
            "[CV] END .................................C=100, gamma=0.001; total time=  43.3s\n",
            "[CV] END ...................................C=1000, gamma=10; total time= 2.1min\n",
            "[CV] END ...................................C=1000, gamma=10; total time= 2.0min\n",
            "[CV] END ...................................C=1000, gamma=10; total time= 1.9min\n",
            "[CV] END ...................................C=1000, gamma=10; total time= 2.1min\n",
            "[CV] END ...................................C=1000, gamma=10; total time= 2.1min\n",
            "[CV] END ....................................C=1000, gamma=1; total time= 1.4min\n",
            "[CV] END ....................................C=1000, gamma=1; total time= 1.4min\n",
            "[CV] END ....................................C=1000, gamma=1; total time= 1.4min\n",
            "[CV] END ....................................C=1000, gamma=1; total time= 1.4min\n",
            "[CV] END ....................................C=1000, gamma=1; total time= 1.4min\n",
            "[CV] END ..................................C=1000, gamma=0.1; total time=  34.3s\n",
            "[CV] END ..................................C=1000, gamma=0.1; total time=  33.6s\n",
            "[CV] END ..................................C=1000, gamma=0.1; total time=  33.8s\n",
            "[CV] END ..................................C=1000, gamma=0.1; total time=  34.7s\n",
            "[CV] END ..................................C=1000, gamma=0.1; total time=  34.1s\n",
            "[CV] END .................................C=1000, gamma=0.01; total time=  32.4s\n",
            "[CV] END .................................C=1000, gamma=0.01; total time=  31.7s\n",
            "[CV] END .................................C=1000, gamma=0.01; total time=  31.9s\n",
            "[CV] END .................................C=1000, gamma=0.01; total time=  31.7s\n",
            "[CV] END .................................C=1000, gamma=0.01; total time=  32.0s\n",
            "[CV] END ................................C=1000, gamma=0.001; total time=  31.8s\n",
            "[CV] END ................................C=1000, gamma=0.001; total time=  32.7s\n",
            "[CV] END ................................C=1000, gamma=0.001; total time=  32.1s\n",
            "[CV] END ................................C=1000, gamma=0.001; total time=  32.4s\n",
            "[CV] END ................................C=1000, gamma=0.001; total time=  32.0s\n",
            "Fitting 5 folds for each of 6 candidates, totalling 30 fits\n",
            "[CV] END ......................................n_neighbors=1; total time=   2.8s\n",
            "[CV] END ......................................n_neighbors=1; total time=   2.3s\n",
            "[CV] END ......................................n_neighbors=1; total time=   1.9s\n",
            "[CV] END ......................................n_neighbors=1; total time=   1.8s\n",
            "[CV] END ......................................n_neighbors=1; total time=   1.9s\n",
            "[CV] END ......................................n_neighbors=2; total time=   2.0s\n",
            "[CV] END ......................................n_neighbors=2; total time=   2.0s\n",
            "[CV] END ......................................n_neighbors=2; total time=   2.5s\n",
            "[CV] END ......................................n_neighbors=2; total time=   2.0s\n",
            "[CV] END ......................................n_neighbors=2; total time=   2.0s\n",
            "[CV] END ......................................n_neighbors=3; total time=   2.2s\n",
            "[CV] END ......................................n_neighbors=3; total time=   2.2s\n",
            "[CV] END ......................................n_neighbors=3; total time=   2.9s\n",
            "[CV] END ......................................n_neighbors=3; total time=   2.2s\n",
            "[CV] END ......................................n_neighbors=3; total time=   2.2s\n",
            "[CV] END ......................................n_neighbors=5; total time=   2.5s\n",
            "[CV] END ......................................n_neighbors=5; total time=   2.5s\n",
            "[CV] END ......................................n_neighbors=5; total time=   3.0s\n",
            "[CV] END ......................................n_neighbors=5; total time=   3.0s\n",
            "[CV] END ......................................n_neighbors=5; total time=   2.5s\n",
            "[CV] END .....................................n_neighbors=10; total time=   2.5s\n",
            "[CV] END .....................................n_neighbors=10; total time=   2.8s\n",
            "[CV] END .....................................n_neighbors=10; total time=   2.6s\n",
            "[CV] END .....................................n_neighbors=10; total time=   2.5s\n",
            "[CV] END .....................................n_neighbors=10; total time=   2.5s\n",
            "[CV] END .....................................n_neighbors=50; total time=   2.5s\n",
            "[CV] END .....................................n_neighbors=50; total time=   2.9s\n",
            "[CV] END .....................................n_neighbors=50; total time=   2.6s\n",
            "[CV] END .....................................n_neighbors=50; total time=   2.6s\n",
            "[CV] END .....................................n_neighbors=50; total time=   2.6s\n"
          ]
        }
      ],
      "source": [
        "for name, model, params in random_cv_model:\n",
        "    cv = GridSearchCV(estimator=model,\n",
        "                      param_grid=params,\n",
        "                      verbose=2\n",
        "                      )\n",
        "    cv.fit(train_data_tfidf, train_label)\n",
        "    model_param[name] = cv.best_params_"
      ]
    },
    {
      "cell_type": "code",
      "execution_count": 13,
      "metadata": {
        "id": "v-Ht1rMdw351",
        "colab": {
          "base_uri": "https://localhost:8080/"
        },
        "outputId": "49a32477-56c9-497c-cd93-76f76cbf9acd"
      },
      "outputs": [
        {
          "output_type": "stream",
          "name": "stdout",
          "text": [
            "------------------- Best Params for Random Forest -----------------\n",
            "{'max_features': 'log2', 'n_estimators': 1000}\n",
            "------------------- Best Params for MNB -----------------\n",
            "{'alpha': 1}\n",
            "------------------- Best Params for SVM -----------------\n",
            "{'C': 10, 'gamma': 1}\n",
            "------------------- Best Params for KNN -----------------\n",
            "{'n_neighbors': 5}\n"
          ]
        }
      ],
      "source": [
        "for model_name in model_param:\n",
        "    print(f\"------------------- Best Params for {model_name} -----------------\")\n",
        "    print(model_param[model_name])"
      ]
    }
  ],
  "metadata": {
    "colab": {
      "provenance": []
    },
    "gpuClass": "standard",
    "kernelspec": {
      "display_name": "Python 3",
      "name": "python3"
    },
    "language_info": {
      "name": "python"
    }
  },
  "nbformat": 4,
  "nbformat_minor": 0
}