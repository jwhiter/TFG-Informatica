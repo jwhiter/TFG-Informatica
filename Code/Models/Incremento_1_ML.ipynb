{
  "nbformat": 4,
  "nbformat_minor": 0,
  "metadata": {
    "colab": {
      "provenance": []
    },
    "kernelspec": {
      "name": "python3",
      "display_name": "Python 3"
    },
    "language_info": {
      "name": "python"
    }
  },
  "cells": [
    {
      "cell_type": "markdown",
      "source": [
        "# TRADITIONAL ALGORITHIMS OF ML"
      ],
      "metadata": {
        "id": "54ZHVxDV3hkq"
      }
    },
    {
      "cell_type": "markdown",
      "source": [
        "## IMPORT PACKAGES"
      ],
      "metadata": {
        "id": "iLFUMFHY4gmL"
      }
    },
    {
      "cell_type": "code",
      "execution_count": 1,
      "metadata": {
        "colab": {
          "base_uri": "https://localhost:8080/"
        },
        "id": "73MKQdW1yR6S",
        "outputId": "5c1220d3-5aa1-4f45-d20b-1dc75149d309"
      },
      "outputs": [
        {
          "output_type": "stream",
          "name": "stderr",
          "text": [
            "[nltk_data] Downloading package wordnet to /root/nltk_data...\n",
            "[nltk_data] Downloading package omw-1.4 to /root/nltk_data...\n",
            "[nltk_data] Downloading package stopwords to /root/nltk_data...\n",
            "[nltk_data]   Unzipping corpora/stopwords.zip.\n"
          ]
        },
        {
          "output_type": "execute_result",
          "data": {
            "text/plain": [
              "True"
            ]
          },
          "metadata": {},
          "execution_count": 1
        }
      ],
      "source": [
        "import re\n",
        "import pandas as pd\n",
        "import sklearn.svm as svm\n",
        "from nltk import WordNetLemmatizer\n",
        "from nltk.corpus import stopwords\n",
        "from sklearn.feature_extraction.text import TfidfVectorizer\n",
        "from sklearn.naive_bayes import MultinomialNB\n",
        "from sklearn.neighbors import KNeighborsClassifier\n",
        "from sklearn.ensemble import RandomForestClassifier\n",
        "from sklearn import svm\n",
        "from sklearn.metrics import accuracy_score, precision_score, recall_score, f1_score, confusion_matrix, ConfusionMatrixDisplay\n",
        "from sklearn.preprocessing import LabelEncoder\n",
        "from pickle import dump, load\n",
        "from tqdm import tqdm\n",
        "from sklearn.pipeline import Pipeline\n",
        "from matplotlib import pyplot as plt\n",
        "import nltk \n",
        "from nltk import download\n",
        "download('wordnet')\n",
        "download('omw-1.4')\n",
        "download('stopwords')"
      ]
    },
    {
      "cell_type": "markdown",
      "source": [
        "## MODEL EVALUATION METRICS"
      ],
      "metadata": {
        "id": "Td2ytihj4d_d"
      }
    },
    {
      "cell_type": "code",
      "source": [
        "def my_confusion_matrix(test_category, category_pred, model_name):\n",
        "    labels = ['b', 'e', 'm', 't']\n",
        "    conf = confusion_matrix(test_category, category_pred)\n",
        "    cmd_obj = ConfusionMatrixDisplay(conf, display_labels=labels)\n",
        "    cmd_obj.plot()\n",
        "    cmd_obj.ax_.set(xlabel='Predicciones', ylabel='Valores reales')\n",
        "    plt.title(f'Confussion matrix: {model_name}')\n",
        "    plt.show()\n",
        "\n",
        "\n",
        "def my_evaluation(test_category, category_pred, model_name):\n",
        "    print(f\"************* METRICS AVERAGE: {model_name} *************\")\n",
        "    print(\"Accuracy: \", accuracy_score(category_pred, test_category) * 100)\n",
        "    print(\"Precision: \", precision_score(category_pred, test_category, average='macro') * 100)\n",
        "    print(\"Recall: \", recall_score(category_pred, test_category, average='macro') * 100)\n",
        "    print(\"f1: \", f1_score(category_pred, test_category, average='macro') * 100)\n",
        "    print()\n",
        "    print(f\"************* METRICS BY CATEGORY {model_name} *************\")\n",
        "    print(\"Precision by cat.: \", precision_score(category_pred, test_category, average=None) * 100)\n",
        "    print(\"Recall by cat.: \", recall_score(category_pred, test_category, average=None) * 100)\n",
        "    print(\"f1 by cat.: \", f1_score(category_pred, test_category, average=None) * 100)\n",
        "    print()"
      ],
      "metadata": {
        "id": "vaY8V4JZLul-"
      },
      "execution_count": 2,
      "outputs": []
    },
    {
      "cell_type": "markdown",
      "source": [
        "TEXT PREPROCESSING\n",
        "\n",
        "There are two text preprocessing methods:\n",
        " \n",
        "1.    **Simple text preprocessing**: simple form of pre-processing including filtering with regex, stopword removal and dimensionality reduction with lemmatisation\n",
        "2.   **Complex text preprocessing**: Stricter text pre-processing. Include transformation of contractions and grammatical derivations into their full form. The changes come from observations made with Knowledge Graphs for Increment 4.\n",
        "\n"
      ],
      "metadata": {
        "id": "_-7jm9Di5C8p"
      }
    },
    {
      "cell_type": "code",
      "source": [
        "# SIMPLE TEXT PREPROCESSING\n",
        "def preprocessing(text):\n",
        "    text = text.lower()\n",
        "    text_cleaned = re.sub(r'[^0-9a-z_+\\-*]', ' ', text).strip()\n",
        "    lemm = WordNetLemmatizer()\n",
        "    title = []\n",
        "    for token in text_cleaned.split():\n",
        "        token_lemm = lemm.lemmatize(token)\n",
        "        if token_lemm not in stopwords.words('english'):\n",
        "             title.append(lemm.lemmatize(token))\n",
        "    return ' '.join(str(elem) for elem in title)"
      ],
      "metadata": {
        "id": "GvumZ1DW4JSY"
      },
      "execution_count": 3,
      "outputs": []
    },
    {
      "cell_type": "code",
      "source": [
        "# COMPLEX TEXT PREPROCESSING\n",
        "contr = {\n",
        "    \"aren't\": \"are not\",\n",
        "    \"she'd\": \"she had\",\n",
        "    \"can't\": \"cannot\",\n",
        "    \"shouldn't\": \"should not\",\n",
        "    \"couldn't\": \"could not\",\n",
        "    \"that's\": \"that is\",\n",
        "    \"didn't\": \"did not\",\n",
        "    \"there's\": \"there is\",\n",
        "    \"don't\": \"do not\",\n",
        "    \"they're\": \"they are\",\n",
        "    \"doesn't\": \"does not\",\n",
        "    \"they've\": \"they have\",\n",
        "    \"hadn't\": \"had not\",\n",
        "    \"they'll\": \"they will\",\n",
        "    \"haven't\": \"have not\",\n",
        "    \"they'd\": \"they would\",\n",
        "    \"he's\": \"he is\",\n",
        "    \"they'd\": \"they had\",\n",
        "    \"he's\": \"he has\",\n",
        "    \"wasn't\": \"was not\",\n",
        "    \"he'll\": \"he will\",\n",
        "    \"we're\": \"we are\",\n",
        "    \"he'd\": \"he would\",\n",
        "    \"we've\": \"we have\",\n",
        "    \"here's\": \"here is\",\n",
        "    \"we'll\": \"we will\",\n",
        "    \"i'm\": \"I am\",\n",
        "    \"we'd\": \"we would\",\n",
        "    \"i've\": \"I have\",\n",
        "    \"we'd\": \"we had\",\n",
        "    \"i'll\": \"I will\",\n",
        "    \"weren't\": \"were not\",\n",
        "    \"i'd\": \"I would\",\n",
        "    \"what's\": \"what is\",\n",
        "    \"i'd\": \"I had\",\n",
        "    \"where's\": \"where is\",\n",
        "    \"isn't\": \"is not\",\n",
        "    \"who's\": \"who is\",\n",
        "    \"it's\": \"it is\",\n",
        "    \"who'll\": \"who will\",\n",
        "    \"it's\": \"it has\",\n",
        "    \"won't\": \"will not\",\n",
        "    \"it's\": \"it has\",\n",
        "    \"wouldn't\": \"would not\",\n",
        "    \"it'll\": \"it will\",\n",
        "    \"you're\": \"you are\",\n",
        "    \"mustn't\": \"must not\",\n",
        "    \"you've\": \"you have\",\n",
        "    \"she's\": \"she is\",\n",
        "    \"you'll\": \"you will\",\n",
        "    \"she's\": \"she has\",\n",
        "    \"you'd\": \"you would\",\n",
        "    \"she'll\": \"she will\",\n",
        "    \"you'd\": \"you had\",\n",
        "    \"she'd\": \"she would\"\n",
        "}\n",
        "capitonyms = {\n",
        "    \"US\": \"the United States of America\",\n",
        "    \"Turkey\": \"turkish country\",\n",
        "    \"Fiat\": \"the italian automobile manufacturer\",\n",
        "    \"Conservative\": \"member of the conservative party\",\n",
        "    \"Cat\": \"Catherine\",\n",
        "    \"AM\": \"ante Meridiem\"\n",
        "}\n",
        "abbreviations = {\n",
        "    \"dr.\": \"doctor\",\n",
        "    \"assoc.\": \"association\",\n",
        "    \"sr.\": \"senior\",\n",
        "    \"st.\": \"saint\"\n",
        "}\n",
        "def expand_dict(s, dict):\n",
        "    exp = re.compile('(%s)' % '|'.join(dict.keys()))\n",
        "    def replace(matcher):\n",
        "        return dict[matcher.group(0)]\n",
        "    return exp.sub(replace, s)\n",
        "def preprocessing(text):\n",
        "    text_c = expand_dict(text, capitonyms)\n",
        "    text = text_c.lower()\n",
        "    text_co = expand_dict(text, contr)\n",
        "    text_cleaned = re.sub(r'[^0-9a-z_+\\-*]', ' ', text_co).strip()\n",
        "    lemm = WordNetLemmatizer()\n",
        "    title = []\n",
        "    for token in text_cleaned.split():\n",
        "        token_lemm = lemm.lemmatize(token)\n",
        "        if token_lemm not in stopwords.words('english'):\n",
        "             title.append(lemm.lemmatize(token))\n",
        "    return ' '.join(str(elem) for elem in title)\n"
      ],
      "metadata": {
        "id": "3VxLyYKuFbKU"
      },
      "execution_count": null,
      "outputs": []
    },
    {
      "cell_type": "markdown",
      "source": [
        "##IMPORT DATA FROM LOCAL FILES\n",
        "Files to upload:\n",
        "- test_category.csv\n",
        "- test_data.csv\n",
        "- train_category.csv\n",
        "- train_data.csv"
      ],
      "metadata": {
        "id": "SQXK10iK9ZSM"
      }
    },
    {
      "cell_type": "code",
      "source": [
        "from google.colab import files\n",
        "uploaded = files.upload()"
      ],
      "metadata": {
        "colab": {
          "base_uri": "https://localhost:8080/",
          "height": 177
        },
        "id": "6BgoX5NS4Vr-",
        "outputId": "c5de9af4-c90c-4f41-83bd-9b70586dc864"
      },
      "execution_count": 4,
      "outputs": [
        {
          "output_type": "display_data",
          "data": {
            "text/plain": [
              "<IPython.core.display.HTML object>"
            ],
            "text/html": [
              "\n",
              "     <input type=\"file\" id=\"files-842ff845-4f90-4aab-9267-11741e5f8b6f\" name=\"files[]\" multiple disabled\n",
              "        style=\"border:none\" />\n",
              "     <output id=\"result-842ff845-4f90-4aab-9267-11741e5f8b6f\">\n",
              "      Upload widget is only available when the cell has been executed in the\n",
              "      current browser session. Please rerun this cell to enable.\n",
              "      </output>\n",
              "      <script>// Copyright 2017 Google LLC\n",
              "//\n",
              "// Licensed under the Apache License, Version 2.0 (the \"License\");\n",
              "// you may not use this file except in compliance with the License.\n",
              "// You may obtain a copy of the License at\n",
              "//\n",
              "//      http://www.apache.org/licenses/LICENSE-2.0\n",
              "//\n",
              "// Unless required by applicable law or agreed to in writing, software\n",
              "// distributed under the License is distributed on an \"AS IS\" BASIS,\n",
              "// WITHOUT WARRANTIES OR CONDITIONS OF ANY KIND, either express or implied.\n",
              "// See the License for the specific language governing permissions and\n",
              "// limitations under the License.\n",
              "\n",
              "/**\n",
              " * @fileoverview Helpers for google.colab Python module.\n",
              " */\n",
              "(function(scope) {\n",
              "function span(text, styleAttributes = {}) {\n",
              "  const element = document.createElement('span');\n",
              "  element.textContent = text;\n",
              "  for (const key of Object.keys(styleAttributes)) {\n",
              "    element.style[key] = styleAttributes[key];\n",
              "  }\n",
              "  return element;\n",
              "}\n",
              "\n",
              "// Max number of bytes which will be uploaded at a time.\n",
              "const MAX_PAYLOAD_SIZE = 100 * 1024;\n",
              "\n",
              "function _uploadFiles(inputId, outputId) {\n",
              "  const steps = uploadFilesStep(inputId, outputId);\n",
              "  const outputElement = document.getElementById(outputId);\n",
              "  // Cache steps on the outputElement to make it available for the next call\n",
              "  // to uploadFilesContinue from Python.\n",
              "  outputElement.steps = steps;\n",
              "\n",
              "  return _uploadFilesContinue(outputId);\n",
              "}\n",
              "\n",
              "// This is roughly an async generator (not supported in the browser yet),\n",
              "// where there are multiple asynchronous steps and the Python side is going\n",
              "// to poll for completion of each step.\n",
              "// This uses a Promise to block the python side on completion of each step,\n",
              "// then passes the result of the previous step as the input to the next step.\n",
              "function _uploadFilesContinue(outputId) {\n",
              "  const outputElement = document.getElementById(outputId);\n",
              "  const steps = outputElement.steps;\n",
              "\n",
              "  const next = steps.next(outputElement.lastPromiseValue);\n",
              "  return Promise.resolve(next.value.promise).then((value) => {\n",
              "    // Cache the last promise value to make it available to the next\n",
              "    // step of the generator.\n",
              "    outputElement.lastPromiseValue = value;\n",
              "    return next.value.response;\n",
              "  });\n",
              "}\n",
              "\n",
              "/**\n",
              " * Generator function which is called between each async step of the upload\n",
              " * process.\n",
              " * @param {string} inputId Element ID of the input file picker element.\n",
              " * @param {string} outputId Element ID of the output display.\n",
              " * @return {!Iterable<!Object>} Iterable of next steps.\n",
              " */\n",
              "function* uploadFilesStep(inputId, outputId) {\n",
              "  const inputElement = document.getElementById(inputId);\n",
              "  inputElement.disabled = false;\n",
              "\n",
              "  const outputElement = document.getElementById(outputId);\n",
              "  outputElement.innerHTML = '';\n",
              "\n",
              "  const pickedPromise = new Promise((resolve) => {\n",
              "    inputElement.addEventListener('change', (e) => {\n",
              "      resolve(e.target.files);\n",
              "    });\n",
              "  });\n",
              "\n",
              "  const cancel = document.createElement('button');\n",
              "  inputElement.parentElement.appendChild(cancel);\n",
              "  cancel.textContent = 'Cancel upload';\n",
              "  const cancelPromise = new Promise((resolve) => {\n",
              "    cancel.onclick = () => {\n",
              "      resolve(null);\n",
              "    };\n",
              "  });\n",
              "\n",
              "  // Wait for the user to pick the files.\n",
              "  const files = yield {\n",
              "    promise: Promise.race([pickedPromise, cancelPromise]),\n",
              "    response: {\n",
              "      action: 'starting',\n",
              "    }\n",
              "  };\n",
              "\n",
              "  cancel.remove();\n",
              "\n",
              "  // Disable the input element since further picks are not allowed.\n",
              "  inputElement.disabled = true;\n",
              "\n",
              "  if (!files) {\n",
              "    return {\n",
              "      response: {\n",
              "        action: 'complete',\n",
              "      }\n",
              "    };\n",
              "  }\n",
              "\n",
              "  for (const file of files) {\n",
              "    const li = document.createElement('li');\n",
              "    li.append(span(file.name, {fontWeight: 'bold'}));\n",
              "    li.append(span(\n",
              "        `(${file.type || 'n/a'}) - ${file.size} bytes, ` +\n",
              "        `last modified: ${\n",
              "            file.lastModifiedDate ? file.lastModifiedDate.toLocaleDateString() :\n",
              "                                    'n/a'} - `));\n",
              "    const percent = span('0% done');\n",
              "    li.appendChild(percent);\n",
              "\n",
              "    outputElement.appendChild(li);\n",
              "\n",
              "    const fileDataPromise = new Promise((resolve) => {\n",
              "      const reader = new FileReader();\n",
              "      reader.onload = (e) => {\n",
              "        resolve(e.target.result);\n",
              "      };\n",
              "      reader.readAsArrayBuffer(file);\n",
              "    });\n",
              "    // Wait for the data to be ready.\n",
              "    let fileData = yield {\n",
              "      promise: fileDataPromise,\n",
              "      response: {\n",
              "        action: 'continue',\n",
              "      }\n",
              "    };\n",
              "\n",
              "    // Use a chunked sending to avoid message size limits. See b/62115660.\n",
              "    let position = 0;\n",
              "    do {\n",
              "      const length = Math.min(fileData.byteLength - position, MAX_PAYLOAD_SIZE);\n",
              "      const chunk = new Uint8Array(fileData, position, length);\n",
              "      position += length;\n",
              "\n",
              "      const base64 = btoa(String.fromCharCode.apply(null, chunk));\n",
              "      yield {\n",
              "        response: {\n",
              "          action: 'append',\n",
              "          file: file.name,\n",
              "          data: base64,\n",
              "        },\n",
              "      };\n",
              "\n",
              "      let percentDone = fileData.byteLength === 0 ?\n",
              "          100 :\n",
              "          Math.round((position / fileData.byteLength) * 100);\n",
              "      percent.textContent = `${percentDone}% done`;\n",
              "\n",
              "    } while (position < fileData.byteLength);\n",
              "  }\n",
              "\n",
              "  // All done.\n",
              "  yield {\n",
              "    response: {\n",
              "      action: 'complete',\n",
              "    }\n",
              "  };\n",
              "}\n",
              "\n",
              "scope.google = scope.google || {};\n",
              "scope.google.colab = scope.google.colab || {};\n",
              "scope.google.colab._files = {\n",
              "  _uploadFiles,\n",
              "  _uploadFilesContinue,\n",
              "};\n",
              "})(self);\n",
              "</script> "
            ]
          },
          "metadata": {}
        },
        {
          "output_type": "stream",
          "name": "stdout",
          "text": [
            "Saving test_category.csv to test_category.csv\n",
            "Saving test_data.csv to test_data.csv\n",
            "Saving train_category.csv to train_category.csv\n",
            "Saving train_data.csv to train_data.csv\n"
          ]
        }
      ]
    },
    {
      "cell_type": "code",
      "source": [
        "train_data_df = pd.read_csv('/content/train_data.csv')\n",
        "test_data_df = pd.read_csv('/content/test_data.csv')\n",
        "train_category_df = pd.read_csv('/content/train_category.csv')\n",
        "test_category_df = pd.read_csv('/content/test_category.csv')"
      ],
      "metadata": {
        "id": "2EgJsrb34kD_"
      },
      "execution_count": 5,
      "outputs": []
    },
    {
      "cell_type": "code",
      "source": [
        "train_data = train_data_df['headline']\n",
        "test_data = test_data_df['headline']\n",
        "train_label = train_category_df['labels'] \n",
        "test_label = test_category_df['labels']"
      ],
      "metadata": {
        "id": "RX8XijZx4mQH"
      },
      "execution_count": 6,
      "outputs": []
    },
    {
      "cell_type": "markdown",
      "source": [
        "## DATA PREPARATION"
      ],
      "metadata": {
        "id": "h_yKQ7Dd9qka"
      }
    },
    {
      "cell_type": "code",
      "source": [
        "train_data = train_data.apply(lambda x: preprocessing(str(x)))\n",
        "test_data = test_data.apply(lambda x: preprocessing(str(x)))"
      ],
      "metadata": {
        "id": "s19_LGGU4p9m"
      },
      "execution_count": 7,
      "outputs": []
    },
    {
      "cell_type": "code",
      "source": [
        "encoder = LabelEncoder()\n",
        "train_label = encoder.fit_transform(train_label)\n",
        "test_label = encoder.fit_transform(test_label)"
      ],
      "metadata": {
        "id": "sprJ7lNG4rpG"
      },
      "execution_count": 8,
      "outputs": []
    },
    {
      "cell_type": "code",
      "source": [
        "tfidf_vector = TfidfVectorizer()\n",
        "tfidf_vector.fit(train_data)\n",
        "train_data_tfidf = tfidf_vector.transform(train_data)\n",
        "test_data_tfidf = tfidf_vector.transform(test_data)"
      ],
      "metadata": {
        "id": "JrEu0__q4zhf"
      },
      "execution_count": 9,
      "outputs": []
    },
    {
      "cell_type": "markdown",
      "source": [
        "## MODEL CREATION, TRAINING AND PREDICTIONS"
      ],
      "metadata": {
        "id": "TLI6iCig97sZ"
      }
    },
    {
      "cell_type": "code",
      "source": [
        "models = {\n",
        "    \"Random Forest\": RandomForestClassifier(n_estimators=1000, max_features='log2'),\n",
        "    \"MNB\": MultinomialNB(alpha=1),\n",
        "    \"SVM\": svm.SVC(gamma=1, C=10),\n",
        "    \"KNN\": KNeighborsClassifier(n_neighbors=5)\n",
        "}"
      ],
      "metadata": {
        "id": "_3HimyeV42WM"
      },
      "execution_count": 10,
      "outputs": []
    },
    {
      "cell_type": "code",
      "source": [
        "models[\"Random Forest\"].fit(train_data_tfidf, train_label)\n",
        "models[\"MNB\"].fit(train_data_tfidf, train_label)\n",
        "models[\"SVM\"].fit(train_data_tfidf, train_label)\n",
        "models[\"KNN\"].fit(train_data_tfidf, train_label)"
      ],
      "metadata": {
        "colab": {
          "base_uri": "https://localhost:8080/"
        },
        "id": "QMos3PRaC4V-",
        "outputId": "753f1312-66cb-4a62-eb01-210f429ff1d7"
      },
      "execution_count": 11,
      "outputs": [
        {
          "output_type": "execute_result",
          "data": {
            "text/plain": [
              "KNeighborsClassifier()"
            ]
          },
          "metadata": {},
          "execution_count": 11
        }
      ]
    },
    {
      "cell_type": "code",
      "source": [
        "label_pred = {}\n",
        "label_pred[\"Random Forest\"] = models[\"Random Forest\"].predict(test_data_tfidf)\n",
        "label_pred[\"MNB\"] = models[\"MNB\"].predict(test_data_tfidf)\n",
        "label_pred[\"SVM\"] = models[\"SVM\"].predict(test_data_tfidf)\n",
        "label_pred[\"KNN\"] = models[\"KNN\"].predict(test_data_tfidf)"
      ],
      "metadata": {
        "id": "r3RsfGHLF_-l"
      },
      "execution_count": 12,
      "outputs": []
    },
    {
      "cell_type": "markdown",
      "source": [
        "## MODEL EVALUATION\n",
        "\n",
        "\n",
        "*   Confusion Matrix\n",
        "*   Metrics: accuracy / recall / precision / F1-score\n",
        "\n"
      ],
      "metadata": {
        "id": "8NqR-2VJ90vb"
      }
    },
    {
      "cell_type": "code",
      "source": [
        "for model_name in label_pred:\n",
        "    print(f\"------------------- Model: {model_name} -----------------\")\n",
        "    my_confusion_matrix(test_label, label_pred[model_name], model_name)\n",
        "    my_evaluation(test_label, label_pred[model_name], model_name)"
      ],
      "metadata": {
        "colab": {
          "base_uri": "https://localhost:8080/",
          "height": 1000
        },
        "id": "x9VJnbuxJejm",
        "outputId": "f65a78bc-06bf-454b-a67e-de9e0396908a"
      },
      "execution_count": 13,
      "outputs": [
        {
          "output_type": "stream",
          "name": "stdout",
          "text": [
            "------------------- Model: Random Forest -----------------\n"
          ]
        },
        {
          "output_type": "display_data",
          "data": {
            "text/plain": [
              "<Figure size 432x288 with 2 Axes>"
            ],
            "image/png": "[encoded data removed]"
          },
          "metadata": {
            "needs_background": "light"
          }
        },
        {
          "output_type": "stream",
          "name": "stdout",
          "text": [
            "************* METRICS AVERAGE: Random Forest *************\n",
            "Accuracy:  91.2\n",
            "Precision:  91.21567175849522\n",
            "Recall:  91.1389122233761\n",
            "f1:  91.17006646873283\n",
            "\n",
            "************* METRICS BY CATEGORY Random Forest *************\n",
            "Precision by cat.:  [88.29431438 93.07228916 93.70629371 89.78978979]\n",
            "Recall by cat.:  [86.84210526 94.49541284 91.78082192 91.43730887]\n",
            "f1 by cat.:  [87.56218905 93.7784522  92.73356401 90.60606061]\n",
            "\n",
            "------------------- Model: MNB -----------------\n"
          ]
        },
        {
          "output_type": "display_data",
          "data": {
            "text/plain": [
              "<Figure size 432x288 with 2 Axes>"
            ],
            "image/png": "[encoded data removed]"
          },
          "metadata": {
            "needs_background": "light"
          }
        },
        {
          "output_type": "stream",
          "name": "stdout",
          "text": [
            "************* METRICS AVERAGE: MNB *************\n",
            "Accuracy:  90.8\n",
            "Precision:  90.82724913002545\n",
            "Recall:  90.73752527395278\n",
            "f1:  90.76977624787455\n",
            "\n",
            "************* METRICS BY CATEGORY MNB *************\n",
            "Precision by cat.:  [87.2909699  93.37349398 94.05594406 88.58858859]\n",
            "Recall by cat.:  [88.7755102  94.51219512 90.26845638 89.39393939]\n",
            "f1 by cat.:  [88.02698145 93.93939394 92.12328767 88.98944193]\n",
            "\n",
            "------------------- Model: SVM -----------------\n"
          ]
        },
        {
          "output_type": "display_data",
          "data": {
            "text/plain": [
              "<Figure size 432x288 with 2 Axes>"
            ],
            "image/png": "[encoded data removed]"
          },
          "metadata": {
            "needs_background": "light"
          }
        },
        {
          "output_type": "stream",
          "name": "stdout",
          "text": [
            "************* METRICS AVERAGE: SVM *************\n",
            "Accuracy:  91.28\n",
            "Precision:  91.35408000651583\n",
            "Recall:  91.28638307720148\n",
            "f1:  91.31254888297018\n",
            "\n",
            "************* METRICS BY CATEGORY SVM *************\n",
            "Precision by cat.:  [90.30100334 92.77108434 94.05594406 88.28828829]\n",
            "Recall by cat.:  [87.94788274 93.33333333 93.40277778 90.46153846]\n",
            "f1 by cat.:  [89.10891089 93.05135952 93.728223   89.36170213]\n",
            "\n",
            "------------------- Model: KNN -----------------\n"
          ]
        },
        {
          "output_type": "display_data",
          "data": {
            "text/plain": [
              "<Figure size 432x288 with 2 Axes>"
            ],
            "image/png": "[encoded data removed]"
          },
          "metadata": {
            "needs_background": "light"
          }
        },
        {
          "output_type": "stream",
          "name": "stdout",
          "text": [
            "************* METRICS AVERAGE: KNN *************\n",
            "Accuracy:  89.84\n",
            "Precision:  89.87561004978501\n",
            "Recall:  89.74493063640351\n",
            "f1:  89.7885464059284\n",
            "\n",
            "************* METRICS BY CATEGORY KNN *************\n",
            "Precision by cat.:  [86.28762542 92.77108434 93.35664336 87.08708709]\n",
            "Recall by cat.:  [86.         94.76923077 88.70431894 89.50617284]\n",
            "f1 by cat.:  [86.14357262 93.75951294 90.97103918 88.28006088]\n",
            "\n"
          ]
        }
      ]
    }
  ]
}