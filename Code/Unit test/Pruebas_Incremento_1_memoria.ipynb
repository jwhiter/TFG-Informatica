{
  "nbformat": 4,
  "nbformat_minor": 0,
  "metadata": {
    "colab": {
      "provenance": []
    },
    "kernelspec": {
      "name": "python3",
      "display_name": "Python 3"
    },
    "language_info": {
      "name": "python"
    },
    "gpuClass": "standard"
  },
  "cells": [
    {
      "cell_type": "markdown",
      "source": [
        "# **DIMNESIONALITY TEST**\n",
        "\n",
        "This test is intended to demonstrate memory reduction during text pre-processing. For this purpose, 4 samples of the dataset with different number of headlines are used: 400, 4000, 25000 and 35000.\n",
        "\n",
        "For each of the samples we intend to show the dimension before and after text pre-processing in:\n",
        "- Number of unique words, i.e. all possible words in the corpus.\n",
        "- Total number of words\n",
        "\n",
        "In addition, it is intended to perform a memory usage check after applying regex in text preprocessing."
      ],
      "metadata": {
        "id": "AkqVWoGHYPU7"
      }
    },
    {
      "cell_type": "markdown",
      "source": [
        "### IMPORT PACKAGES & FUNCTIONS"
      ],
      "metadata": {
        "id": "AB7rwD5daFgf"
      }
    },
    {
      "cell_type": "code",
      "execution_count": 1,
      "metadata": {
        "colab": {
          "base_uri": "https://localhost:8080/"
        },
        "id": "Z2XBJHSXQy5w",
        "outputId": "06e2f6cd-623f-4db1-b61b-4379f996cc0a"
      },
      "outputs": [
        {
          "output_type": "stream",
          "name": "stderr",
          "text": [
            "[nltk_data] Downloading package wordnet to /root/nltk_data...\n",
            "[nltk_data] Downloading package omw-1.4 to /root/nltk_data...\n",
            "[nltk_data] Downloading package stopwords to /root/nltk_data...\n",
            "[nltk_data]   Unzipping corpora/stopwords.zip.\n"
          ]
        },
        {
          "output_type": "execute_result",
          "data": {
            "text/plain": [
              "True"
            ]
          },
          "metadata": {},
          "execution_count": 1
        }
      ],
      "source": [
        "import re\n",
        "import pandas as pd\n",
        "import sklearn.svm as svm\n",
        "import numpy as np\n",
        "from nltk import WordNetLemmatizer\n",
        "from nltk.corpus import stopwords\n",
        "from sklearn.feature_extraction.text import TfidfVectorizer\n",
        "from sklearn.naive_bayes import MultinomialNB\n",
        "from sklearn.neighbors import KNeighborsClassifier\n",
        "from sklearn.ensemble import RandomForestClassifier\n",
        "from sklearn import svm\n",
        "from sklearn.metrics import accuracy_score, precision_score, recall_score, f1_score, confusion_matrix, ConfusionMatrixDisplay\n",
        "from sklearn.preprocessing import LabelEncoder\n",
        "from pickle import dump, load\n",
        "from tqdm import tqdm\n",
        "from sklearn.pipeline import Pipeline\n",
        "from matplotlib import pyplot as plt\n",
        "import nltk \n",
        "from nltk import download\n",
        "from google.colab import files\n",
        "download('wordnet')\n",
        "download('omw-1.4')\n",
        "download('stopwords')"
      ]
    },
    {
      "cell_type": "code",
      "source": [
        "def preprocessing(text):\n",
        "    text = text.lower()\n",
        "    text_cleaned = re.sub(r'[^0-9a-z_+\\-*]', ' ', text).strip()\n",
        "    lemm = WordNetLemmatizer()\n",
        "    title = []\n",
        "    for token in text_cleaned.split():\n",
        "        token_lemm = lemm.lemmatize(token)\n",
        "        if token_lemm not in stopwords.words('english'):\n",
        "             title.append(lemm.lemmatize(token))\n",
        "    return ' '.join(str(elem) for elem in title)"
      ],
      "metadata": {
        "id": "5-A1FCZsRHuo"
      },
      "execution_count": 2,
      "outputs": []
    },
    {
      "cell_type": "code",
      "source": [
        "def dim_reduction(df):\n",
        "    dict_init = {}\n",
        "    word_count = 0\n",
        "    for headline in df:\n",
        "        for word in headline.split():\n",
        "            word_count = word_count + 1\n",
        "            if word not in dict_init.keys():\n",
        "                dict_init[word] = 1\n",
        "            else:\n",
        "                dict_init[word] = dict_init[word] + 1\n",
        "    return len(dict_init.keys()), word_count"
      ],
      "metadata": {
        "id": "Flp65pVRSmyT"
      },
      "execution_count": 3,
      "outputs": []
    },
    {
      "cell_type": "markdown",
      "source": [
        "### DATA PREPARATION"
      ],
      "metadata": {
        "id": "D2CsCzC8aKid"
      }
    },
    {
      "cell_type": "code",
      "source": [
        "uploaded = files.upload()\n",
        "data_400 = pd.read_excel('/content/sample_400_Data&Headers.xlsx')\n",
        "data_4000 = pd.read_excel('/content/sample_4000_Data&Headers.xlsx')\n",
        "data_25000 = pd.read_excel('/content/sample_25000_Data&Headers.xlsx')\n",
        "data_35000 = pd.read_excel('/content/sample_35000_Data&Headers.xlsx')"
      ],
      "metadata": {
        "colab": {
          "base_uri": "https://localhost:8080/",
          "height": 177
        },
        "id": "EH7p7geCSJ8Y",
        "outputId": "2a663844-a118-421c-976f-6bc6cae29251"
      },
      "execution_count": 4,
      "outputs": [
        {
          "output_type": "display_data",
          "data": {
            "text/plain": [
              "<IPython.core.display.HTML object>"
            ],
            "text/html": [
              "\n",
              "     <input type=\"file\" id=\"files-4fbd23f8-23ea-48c1-b33e-81a2ec5f0b1c\" name=\"files[]\" multiple disabled\n",
              "        style=\"border:none\" />\n",
              "     <output id=\"result-4fbd23f8-23ea-48c1-b33e-81a2ec5f0b1c\">\n",
              "      Upload widget is only available when the cell has been executed in the\n",
              "      current browser session. Please rerun this cell to enable.\n",
              "      </output>\n",
              "      <script>// Copyright 2017 Google LLC\n",
              "//\n",
              "// Licensed under the Apache License, Version 2.0 (the \"License\");\n",
              "// you may not use this file except in compliance with the License.\n",
              "// You may obtain a copy of the License at\n",
              "//\n",
              "//      http://www.apache.org/licenses/LICENSE-2.0\n",
              "//\n",
              "// Unless required by applicable law or agreed to in writing, software\n",
              "// distributed under the License is distributed on an \"AS IS\" BASIS,\n",
              "// WITHOUT WARRANTIES OR CONDITIONS OF ANY KIND, either express or implied.\n",
              "// See the License for the specific language governing permissions and\n",
              "// limitations under the License.\n",
              "\n",
              "/**\n",
              " * @fileoverview Helpers for google.colab Python module.\n",
              " */\n",
              "(function(scope) {\n",
              "function span(text, styleAttributes = {}) {\n",
              "  const element = document.createElement('span');\n",
              "  element.textContent = text;\n",
              "  for (const key of Object.keys(styleAttributes)) {\n",
              "    element.style[key] = styleAttributes[key];\n",
              "  }\n",
              "  return element;\n",
              "}\n",
              "\n",
              "// Max number of bytes which will be uploaded at a time.\n",
              "const MAX_PAYLOAD_SIZE = 100 * 1024;\n",
              "\n",
              "function _uploadFiles(inputId, outputId) {\n",
              "  const steps = uploadFilesStep(inputId, outputId);\n",
              "  const outputElement = document.getElementById(outputId);\n",
              "  // Cache steps on the outputElement to make it available for the next call\n",
              "  // to uploadFilesContinue from Python.\n",
              "  outputElement.steps = steps;\n",
              "\n",
              "  return _uploadFilesContinue(outputId);\n",
              "}\n",
              "\n",
              "// This is roughly an async generator (not supported in the browser yet),\n",
              "// where there are multiple asynchronous steps and the Python side is going\n",
              "// to poll for completion of each step.\n",
              "// This uses a Promise to block the python side on completion of each step,\n",
              "// then passes the result of the previous step as the input to the next step.\n",
              "function _uploadFilesContinue(outputId) {\n",
              "  const outputElement = document.getElementById(outputId);\n",
              "  const steps = outputElement.steps;\n",
              "\n",
              "  const next = steps.next(outputElement.lastPromiseValue);\n",
              "  return Promise.resolve(next.value.promise).then((value) => {\n",
              "    // Cache the last promise value to make it available to the next\n",
              "    // step of the generator.\n",
              "    outputElement.lastPromiseValue = value;\n",
              "    return next.value.response;\n",
              "  });\n",
              "}\n",
              "\n",
              "/**\n",
              " * Generator function which is called between each async step of the upload\n",
              " * process.\n",
              " * @param {string} inputId Element ID of the input file picker element.\n",
              " * @param {string} outputId Element ID of the output display.\n",
              " * @return {!Iterable<!Object>} Iterable of next steps.\n",
              " */\n",
              "function* uploadFilesStep(inputId, outputId) {\n",
              "  const inputElement = document.getElementById(inputId);\n",
              "  inputElement.disabled = false;\n",
              "\n",
              "  const outputElement = document.getElementById(outputId);\n",
              "  outputElement.innerHTML = '';\n",
              "\n",
              "  const pickedPromise = new Promise((resolve) => {\n",
              "    inputElement.addEventListener('change', (e) => {\n",
              "      resolve(e.target.files);\n",
              "    });\n",
              "  });\n",
              "\n",
              "  const cancel = document.createElement('button');\n",
              "  inputElement.parentElement.appendChild(cancel);\n",
              "  cancel.textContent = 'Cancel upload';\n",
              "  const cancelPromise = new Promise((resolve) => {\n",
              "    cancel.onclick = () => {\n",
              "      resolve(null);\n",
              "    };\n",
              "  });\n",
              "\n",
              "  // Wait for the user to pick the files.\n",
              "  const files = yield {\n",
              "    promise: Promise.race([pickedPromise, cancelPromise]),\n",
              "    response: {\n",
              "      action: 'starting',\n",
              "    }\n",
              "  };\n",
              "\n",
              "  cancel.remove();\n",
              "\n",
              "  // Disable the input element since further picks are not allowed.\n",
              "  inputElement.disabled = true;\n",
              "\n",
              "  if (!files) {\n",
              "    return {\n",
              "      response: {\n",
              "        action: 'complete',\n",
              "      }\n",
              "    };\n",
              "  }\n",
              "\n",
              "  for (const file of files) {\n",
              "    const li = document.createElement('li');\n",
              "    li.append(span(file.name, {fontWeight: 'bold'}));\n",
              "    li.append(span(\n",
              "        `(${file.type || 'n/a'}) - ${file.size} bytes, ` +\n",
              "        `last modified: ${\n",
              "            file.lastModifiedDate ? file.lastModifiedDate.toLocaleDateString() :\n",
              "                                    'n/a'} - `));\n",
              "    const percent = span('0% done');\n",
              "    li.appendChild(percent);\n",
              "\n",
              "    outputElement.appendChild(li);\n",
              "\n",
              "    const fileDataPromise = new Promise((resolve) => {\n",
              "      const reader = new FileReader();\n",
              "      reader.onload = (e) => {\n",
              "        resolve(e.target.result);\n",
              "      };\n",
              "      reader.readAsArrayBuffer(file);\n",
              "    });\n",
              "    // Wait for the data to be ready.\n",
              "    let fileData = yield {\n",
              "      promise: fileDataPromise,\n",
              "      response: {\n",
              "        action: 'continue',\n",
              "      }\n",
              "    };\n",
              "\n",
              "    // Use a chunked sending to avoid message size limits. See b/62115660.\n",
              "    let position = 0;\n",
              "    do {\n",
              "      const length = Math.min(fileData.byteLength - position, MAX_PAYLOAD_SIZE);\n",
              "      const chunk = new Uint8Array(fileData, position, length);\n",
              "      position += length;\n",
              "\n",
              "      const base64 = btoa(String.fromCharCode.apply(null, chunk));\n",
              "      yield {\n",
              "        response: {\n",
              "          action: 'append',\n",
              "          file: file.name,\n",
              "          data: base64,\n",
              "        },\n",
              "      };\n",
              "\n",
              "      let percentDone = fileData.byteLength === 0 ?\n",
              "          100 :\n",
              "          Math.round((position / fileData.byteLength) * 100);\n",
              "      percent.textContent = `${percentDone}% done`;\n",
              "\n",
              "    } while (position < fileData.byteLength);\n",
              "  }\n",
              "\n",
              "  // All done.\n",
              "  yield {\n",
              "    response: {\n",
              "      action: 'complete',\n",
              "    }\n",
              "  };\n",
              "}\n",
              "\n",
              "scope.google = scope.google || {};\n",
              "scope.google.colab = scope.google.colab || {};\n",
              "scope.google.colab._files = {\n",
              "  _uploadFiles,\n",
              "  _uploadFilesContinue,\n",
              "};\n",
              "})(self);\n",
              "</script> "
            ]
          },
          "metadata": {}
        },
        {
          "output_type": "stream",
          "name": "stdout",
          "text": [
            "Saving sample_400_Data&Headers.xlsx to sample_400_Data&Headers.xlsx\n",
            "Saving sample_4000_Data&Headers.xlsx to sample_4000_Data&Headers.xlsx\n",
            "Saving sample_25000_Data&Headers.xlsx to sample_25000_Data&Headers.xlsx\n",
            "Saving sample_35000_Data&Headers.xlsx to sample_35000_Data&Headers.xlsx\n"
          ]
        }
      ]
    },
    {
      "cell_type": "code",
      "source": [
        "# Extracting headlines from sample\n",
        "hd_400 = data_400['headline']\n",
        "hd_4000 = data_4000['headline']\n",
        "hd_25000 = data_25000['headline'] \n",
        "hd_35000 = data_35000['headline']"
      ],
      "metadata": {
        "id": "fQskc5UGSXm2"
      },
      "execution_count": 5,
      "outputs": []
    },
    {
      "cell_type": "code",
      "source": [
        "# Preprocessing headlines\n",
        "hd_400_processed = hd_400.apply(lambda x: preprocessing(str(x)))\n",
        "hd_4000_processed = hd_4000.apply(lambda x: preprocessing(str(x)))\n",
        "hd_25000_processed = hd_25000.apply(lambda x: preprocessing(str(x)))\n",
        "hd_35000_processed = hd_35000.apply(lambda x: preprocessing(str(x)))"
      ],
      "metadata": {
        "id": "6d1AkcxWSY9m"
      },
      "execution_count": 6,
      "outputs": []
    },
    {
      "cell_type": "markdown",
      "source": [
        "### DIMENSIONALITY REDUCTION TEST"
      ],
      "metadata": {
        "id": "-ymG_nAPbnbt"
      }
    },
    {
      "cell_type": "markdown",
      "source": [
        "#### Comparing processed and unprocessed headlines"
      ],
      "metadata": {
        "id": "zhVT-9-DdI-q"
      }
    },
    {
      "cell_type": "code",
      "source": [
        "headline_list = [[400, hd_400, hd_400_processed], [4000, hd_4000, hd_4000_processed], [25000, hd_25000, hd_25000_processed], [35000, hd_35000, hd_35000_processed]]\n",
        "for hd_info in headline_list:\n",
        "  plt_num = hd_info[0]\n",
        "  dif_word, total_word = dim_reduction(hd_info[1])\n",
        "  dif_word_processed, total_word_processed = dim_reduction(hd_info[2])\n",
        "  data = [[dif_word, total_word], [dif_word_processed, total_word_processed]]\n",
        "  index = np.arange(2)\n",
        "  bar_width = 0.5\n",
        "  fig = plt.figure()\n",
        "  ax = fig.add_axes([0,0,1,1])\n",
        "  plt.ylabel('Nº words')\n",
        "  plt.title(f'Analysis for sample of {plt_num} headlines')\n",
        "  plt.xticks(index + bar_width, ('unique words', 'total words'))\n",
        "  ax.bar(index + 0.10, data[0], color = 'b', width = 0.25)\n",
        "  ax.bar(index + 0.40, data[1], color = 'g', width = 0.25)\n",
        "  ax.legend(labels=['Raw Data', 'Processed data'])\n",
        "  plt.show()\n",
        "  print()"
      ],
      "metadata": {
        "colab": {
          "base_uri": "https://localhost:8080/",
          "height": 1000
        },
        "id": "xFleKkXBEfDe",
        "outputId": "02fc41dd-f440-4f3a-f147-c965b7de82c2"
      },
      "execution_count": 7,
      "outputs": [
        {
          "output_type": "display_data",
          "data": {
            "text/plain": [
              "<Figure size 432x288 with 1 Axes>"
            ],
            "image/png": "[encoded data removed]"
          },
          "metadata": {
            "needs_background": "light"
          }
        },
        {
          "output_type": "stream",
          "name": "stdout",
          "text": [
            "\n"
          ]
        },
        {
          "output_type": "display_data",
          "data": {
            "text/plain": [
              "<Figure size 432x288 with 1 Axes>"
            ],
            "image/png": "[encoded data removed]"
          },
          "metadata": {
            "needs_background": "light"
          }
        },
        {
          "output_type": "stream",
          "name": "stdout",
          "text": [
            "\n"
          ]
        },
        {
          "output_type": "display_data",
          "data": {
            "text/plain": [
              "<Figure size 432x288 with 1 Axes>"
            ],
            "image/png": "[encoded data removed]"
          },
          "metadata": {
            "needs_background": "light"
          }
        },
        {
          "output_type": "stream",
          "name": "stdout",
          "text": [
            "\n"
          ]
        },
        {
          "output_type": "display_data",
          "data": {
            "text/plain": [
              "<Figure size 432x288 with 1 Axes>"
            ],
            "image/png": "[encoded data removed]"
          },
          "metadata": {
            "needs_background": "light"
          }
        },
        {
          "output_type": "stream",
          "name": "stdout",
          "text": [
            "\n"
          ]
        }
      ]
    },
    {
      "cell_type": "markdown",
      "source": [
        "## MEMORY USAGE"
      ],
      "metadata": {
        "id": "2MVELiWf2XN-"
      }
    },
    {
      "cell_type": "code",
      "source": [
        "def preprocessing_regex(text):\n",
        "    text = text.lower()\n",
        "    text_cleaned = re.sub(r'[^0-9a-z_+\\-*]', ' ', text).strip()\n",
        "    return text_cleaned"
      ],
      "metadata": {
        "id": "5427KqPCy_0m"
      },
      "execution_count": 8,
      "outputs": []
    },
    {
      "cell_type": "code",
      "source": [
        "hd_400_regex = hd_400.apply(lambda x: preprocessing_regex(x))\n",
        "print(\"----- MEMORY USAGE FOR SAMPLE OF 400 HEADLINES -------\")\n",
        "print(\"Memory usage normal corpus: \", hd_400.memory_usage(deep=True))\n",
        "print(\"Memory usage after regex: \", hd_400_regex.memory_usage(deep=True))\n",
        "print(\"Memory usage after preprocessing: \", hd_400_processed.memory_usage(deep=True))"
      ],
      "metadata": {
        "id": "eRLPRg-ysFPF",
        "colab": {
          "base_uri": "https://localhost:8080/"
        },
        "outputId": "085d78d8-af4e-4d2c-9e9c-8a44661c4772"
      },
      "execution_count": 13,
      "outputs": [
        {
          "output_type": "stream",
          "name": "stdout",
          "text": [
            "----- MEMORY USAGE FOR SAMPLE OF 400 HEADLINES -------\n",
            "Memory usage normal corpus:  46323\n",
            "Memory usage after regex:  45057\n",
            "Memory usage after preprocessing:  41241\n"
          ]
        }
      ]
    },
    {
      "cell_type": "code",
      "source": [
        "hd_4000_regex = hd_4000.apply(lambda x: preprocessing_regex(x))\n",
        "print(\"----- MEMORY USAGE FOR SAMPLE OF 4000 HEADLINES -------\")\n",
        "print(\"Memory usage normal corpus: \", hd_4000.memory_usage(deep=True))\n",
        "print(\"Memory usage after regex: \", hd_4000_regex.memory_usage(deep=True))\n",
        "print(\"Memory usage after preprocessing: \", hd_4000_processed.memory_usage(deep=True))"
      ],
      "metadata": {
        "colab": {
          "base_uri": "https://localhost:8080/"
        },
        "id": "ZXRzmVo8I7uF",
        "outputId": "4ccd86a7-6684-4e58-f906-4751c5e6f3d7"
      },
      "execution_count": 14,
      "outputs": [
        {
          "output_type": "stream",
          "name": "stdout",
          "text": [
            "----- MEMORY USAGE FOR SAMPLE OF 4000 HEADLINES -------\n",
            "Memory usage normal corpus:  489041\n",
            "Memory usage after regex:  463330\n",
            "Memory usage after preprocessing:  423780\n"
          ]
        }
      ]
    },
    {
      "cell_type": "code",
      "source": [
        "hd_25000_regex = hd_25000.apply(lambda x: preprocessing_regex(x))\n",
        "print(\"----- MEMORY USAGE FOR SAMPLE OF 25000 HEADLINES -------\")\n",
        "print(\"Memory usage normal corpus: \", hd_25000.memory_usage(deep=True))\n",
        "print(\"Memory usage after regex: \", hd_25000_regex.memory_usage(deep=True))\n",
        "print(\"Memory usage after preprocessing: \", hd_25000_processed.memory_usage(deep=True))"
      ],
      "metadata": {
        "colab": {
          "base_uri": "https://localhost:8080/"
        },
        "id": "QM3xNvpb0nJl",
        "outputId": "16ec9198-fd91-4b4a-cabf-66d4e83e7026"
      },
      "execution_count": 11,
      "outputs": [
        {
          "output_type": "stream",
          "name": "stdout",
          "text": [
            "----- MEMORY USAGE FOR SAMPLE OF 25000 HEADLINES -------\n",
            "Memory usage normal corpus:  2903926\n",
            "Memory usage after regex:  2820442\n",
            "Memory usage after preprocessing:  2576870\n"
          ]
        }
      ]
    },
    {
      "cell_type": "code",
      "source": [
        "\n",
        "hd_35000_regex = hd_35000.apply(lambda x: preprocessing_regex(x))\n",
        "print(\"----- MEMORY USAGE FOR SAMPLE OF 35000 HEADLINES -------\")\n",
        "print(\"Memory usage normal corpus: \", hd_35000.memory_usage(deep=True))\n",
        "print(\"Memory usage after regex: \", hd_35000_regex.memory_usage(deep=True))\n",
        "print(\"Memory usage after preprocessing: \", hd_35000_processed.memory_usage(deep=True))"
      ],
      "metadata": {
        "colab": {
          "base_uri": "https://localhost:8080/"
        },
        "id": "hiu55tgd0trk",
        "outputId": "d8cecb75-1039-4557-f222-79e7b3e575f7"
      },
      "execution_count": 12,
      "outputs": [
        {
          "output_type": "stream",
          "name": "stdout",
          "text": [
            "----- MEMORY USAGE FOR SAMPLE OF 35000 HEADLINES -------\n",
            "Memory usage normal corpus:  4055277\n",
            "Memory usage after regex:  3943296\n",
            "Memory usage after preprocessing:  3601371\n"
          ]
        }
      ]
    }
  ]
}